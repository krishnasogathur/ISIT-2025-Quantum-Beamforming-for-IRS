{
  "nbformat": 4,
  "nbformat_minor": 0,
  "metadata": {
    "language_info": {
      "codemirror_mode": {
        "name": "ipython",
        "version": 3
      },
      "file_extension": ".py",
      "mimetype": "text/x-python",
      "name": "python",
      "nbconvert_exporter": "python",
      "pygments_lexer": "ipython3",
      "version": "3.7.7-final"
    },
    "orig_nbformat": 2,
    "kernelspec": {
      "name": "python_defaultSpec_1601355140625",
      "display_name": "Python 3.7.7 64-bit ('xomibm': conda)"
    },
    "colab": {
      "provenance": []
    }
  },
  "cells": [
    {
      "cell_type": "markdown",
      "source": [
        "##Optimization by Annealing"
      ],
      "metadata": {
        "id": "agJf-gB2oV77"
      }
    },
    {
      "cell_type": "code",
      "metadata": {
        "id": "TJDd70-aGDIT",
        "colab": {
          "base_uri": "https://localhost:8080/"
        },
        "outputId": "2352d60d-e490-4696-910d-8be07f0465d8"
      },
      "source": [
        "# @title\n",
        "# If using this on Google collab, we need to install the packages\n",
        "try:\n",
        "  import google.colab\n",
        "  IN_COLAB = True\n",
        "except:\n",
        "\n",
        "  IN_COLAB = False\n",
        "\n",
        "# Let's install with dimod and neal\n",
        "if IN_COLAB:\n",
        "    !pip install dwave-ocean-sdk"
      ],
      "execution_count": null,
      "outputs": [
        {
          "output_type": "stream",
          "name": "stdout",
          "text": [
            "Requirement already satisfied: dwave-ocean-sdk in /usr/local/lib/python3.11/dist-packages (8.4.0)\n",
            "Requirement already satisfied: dimod==0.12.20 in /usr/local/lib/python3.11/dist-packages (from dwave-ocean-sdk) (0.12.20)\n",
            "Requirement already satisfied: dwave-cloud-client==0.13.6 in /usr/local/lib/python3.11/dist-packages (from dwave-ocean-sdk) (0.13.6)\n",
            "Requirement already satisfied: dwave-gate==0.3.4 in /usr/local/lib/python3.11/dist-packages (from dwave-ocean-sdk) (0.3.4)\n",
            "Requirement already satisfied: dwave-hybrid==0.6.14 in /usr/local/lib/python3.11/dist-packages (from dwave-ocean-sdk) (0.6.14)\n",
            "Requirement already satisfied: dwave-inspector==0.5.4 in /usr/local/lib/python3.11/dist-packages (from dwave-ocean-sdk) (0.5.4)\n",
            "Requirement already satisfied: dwave-networkx==0.8.18 in /usr/local/lib/python3.11/dist-packages (from dwave-ocean-sdk) (0.8.18)\n",
            "Requirement already satisfied: dwave-optimization==0.6.2 in /usr/local/lib/python3.11/dist-packages (from dwave-ocean-sdk) (0.6.2)\n",
            "Requirement already satisfied: dwave-preprocessing==0.6.9 in /usr/local/lib/python3.11/dist-packages (from dwave-ocean-sdk) (0.6.9)\n",
            "Requirement already satisfied: dwave-samplers==1.6.0 in /usr/local/lib/python3.11/dist-packages (from dwave-ocean-sdk) (1.6.0)\n",
            "Requirement already satisfied: dwave-system==1.32.0 in /usr/local/lib/python3.11/dist-packages (from dwave-ocean-sdk) (1.32.0)\n",
            "Requirement already satisfied: dwavebinarycsp==0.3.1 in /usr/local/lib/python3.11/dist-packages (from dwave-ocean-sdk) (0.3.1)\n",
            "Requirement already satisfied: minorminer==0.2.19 in /usr/local/lib/python3.11/dist-packages (from dwave-ocean-sdk) (0.2.19)\n",
            "Requirement already satisfied: penaltymodel==1.2.0 in /usr/local/lib/python3.11/dist-packages (from dwave-ocean-sdk) (1.2.0)\n",
            "Requirement already satisfied: numpy>=1.17.3 in /usr/local/lib/python3.11/dist-packages (from dimod==0.12.20->dwave-ocean-sdk) (2.0.2)\n",
            "Requirement already satisfied: requests<3,>=2.25 in /usr/local/lib/python3.11/dist-packages (from requests[socks]<3,>=2.25->dwave-cloud-client==0.13.6->dwave-ocean-sdk) (2.32.3)\n",
            "Requirement already satisfied: urllib3<3,>=1.26 in /usr/local/lib/python3.11/dist-packages (from dwave-cloud-client==0.13.6->dwave-ocean-sdk) (2.4.0)\n",
            "Requirement already satisfied: pydantic<3,>=2 in /usr/local/lib/python3.11/dist-packages (from dwave-cloud-client==0.13.6->dwave-ocean-sdk) (2.11.7)\n",
            "Requirement already satisfied: homebase<2,>=1.0 in /usr/local/lib/python3.11/dist-packages (from dwave-cloud-client==0.13.6->dwave-ocean-sdk) (1.0.1)\n",
            "Requirement already satisfied: click<9,>=7.0 in /usr/local/lib/python3.11/dist-packages (from dwave-cloud-client==0.13.6->dwave-ocean-sdk) (8.2.1)\n",
            "Requirement already satisfied: python-dateutil<3,>=2.7 in /usr/local/lib/python3.11/dist-packages (from dwave-cloud-client==0.13.6->dwave-ocean-sdk) (2.9.0.post0)\n",
            "Requirement already satisfied: plucky<0.5,>=0.4.3 in /usr/local/lib/python3.11/dist-packages (from dwave-cloud-client==0.13.6->dwave-ocean-sdk) (0.4.3)\n",
            "Requirement already satisfied: diskcache<6,>=5.2.1 in /usr/local/lib/python3.11/dist-packages (from dwave-cloud-client==0.13.6->dwave-ocean-sdk) (5.6.3)\n",
            "Requirement already satisfied: packaging>=19 in /usr/local/lib/python3.11/dist-packages (from dwave-cloud-client==0.13.6->dwave-ocean-sdk) (24.2)\n",
            "Requirement already satisfied: werkzeug<4,>=2.2 in /usr/local/lib/python3.11/dist-packages (from dwave-cloud-client==0.13.6->dwave-ocean-sdk) (3.1.3)\n",
            "Requirement already satisfied: typing-extensions<5,>=4.5.0 in /usr/local/lib/python3.11/dist-packages (from dwave-cloud-client==0.13.6->dwave-ocean-sdk) (4.14.0)\n",
            "Requirement already satisfied: authlib<2,>=1.2 in /usr/local/lib/python3.11/dist-packages (from dwave-cloud-client==0.13.6->dwave-ocean-sdk) (1.6.0)\n",
            "Requirement already satisfied: importlib_metadata>=5.0.0 in /usr/local/lib/python3.11/dist-packages (from dwave-cloud-client==0.13.6->dwave-ocean-sdk) (8.7.0)\n",
            "Requirement already satisfied: orjson>=3.10 in /usr/local/lib/python3.11/dist-packages (from dwave-cloud-client==0.13.6->dwave-ocean-sdk) (3.10.18)\n",
            "Requirement already satisfied: networkx in /usr/local/lib/python3.11/dist-packages (from dwave-hybrid==0.6.14->dwave-ocean-sdk) (3.5)\n",
            "Requirement already satisfied: Flask<4,>=2.2 in /usr/local/lib/python3.11/dist-packages (from dwave-inspector==0.5.4->dwave-ocean-sdk) (3.1.1)\n",
            "Requirement already satisfied: scipy>=1.7.3 in /usr/local/lib/python3.11/dist-packages (from dwave-system==1.32.0->dwave-ocean-sdk) (1.15.3)\n",
            "Requirement already satisfied: fasteners>=0.15 in /usr/local/lib/python3.11/dist-packages (from minorminer==0.2.19->dwave-ocean-sdk) (0.19)\n",
            "Requirement already satisfied: cryptography in /usr/local/lib/python3.11/dist-packages (from authlib<2,>=1.2->dwave-cloud-client==0.13.6->dwave-ocean-sdk) (43.0.3)\n",
            "Requirement already satisfied: blinker>=1.9.0 in /usr/local/lib/python3.11/dist-packages (from Flask<4,>=2.2->dwave-inspector==0.5.4->dwave-ocean-sdk) (1.9.0)\n",
            "Requirement already satisfied: itsdangerous>=2.2.0 in /usr/local/lib/python3.11/dist-packages (from Flask<4,>=2.2->dwave-inspector==0.5.4->dwave-ocean-sdk) (2.2.0)\n",
            "Requirement already satisfied: jinja2>=3.1.2 in /usr/local/lib/python3.11/dist-packages (from Flask<4,>=2.2->dwave-inspector==0.5.4->dwave-ocean-sdk) (3.1.6)\n",
            "Requirement already satisfied: markupsafe>=2.1.1 in /usr/local/lib/python3.11/dist-packages (from Flask<4,>=2.2->dwave-inspector==0.5.4->dwave-ocean-sdk) (3.0.2)\n",
            "Requirement already satisfied: zipp>=3.20 in /usr/local/lib/python3.11/dist-packages (from importlib_metadata>=5.0.0->dwave-cloud-client==0.13.6->dwave-ocean-sdk) (3.23.0)\n",
            "Requirement already satisfied: annotated-types>=0.6.0 in /usr/local/lib/python3.11/dist-packages (from pydantic<3,>=2->dwave-cloud-client==0.13.6->dwave-ocean-sdk) (0.7.0)\n",
            "Requirement already satisfied: pydantic-core==2.33.2 in /usr/local/lib/python3.11/dist-packages (from pydantic<3,>=2->dwave-cloud-client==0.13.6->dwave-ocean-sdk) (2.33.2)\n",
            "Requirement already satisfied: typing-inspection>=0.4.0 in /usr/local/lib/python3.11/dist-packages (from pydantic<3,>=2->dwave-cloud-client==0.13.6->dwave-ocean-sdk) (0.4.1)\n",
            "Requirement already satisfied: six>=1.5 in /usr/local/lib/python3.11/dist-packages (from python-dateutil<3,>=2.7->dwave-cloud-client==0.13.6->dwave-ocean-sdk) (1.17.0)\n",
            "Requirement already satisfied: charset-normalizer<4,>=2 in /usr/local/lib/python3.11/dist-packages (from requests<3,>=2.25->requests[socks]<3,>=2.25->dwave-cloud-client==0.13.6->dwave-ocean-sdk) (3.4.2)\n",
            "Requirement already satisfied: idna<4,>=2.5 in /usr/local/lib/python3.11/dist-packages (from requests<3,>=2.25->requests[socks]<3,>=2.25->dwave-cloud-client==0.13.6->dwave-ocean-sdk) (3.10)\n",
            "Requirement already satisfied: certifi>=2017.4.17 in /usr/local/lib/python3.11/dist-packages (from requests<3,>=2.25->requests[socks]<3,>=2.25->dwave-cloud-client==0.13.6->dwave-ocean-sdk) (2025.6.15)\n",
            "Requirement already satisfied: PySocks!=1.5.7,>=1.5.6 in /usr/local/lib/python3.11/dist-packages (from requests[socks]<3,>=2.25->dwave-cloud-client==0.13.6->dwave-ocean-sdk) (1.7.1)\n",
            "Requirement already satisfied: cffi>=1.12 in /usr/local/lib/python3.11/dist-packages (from cryptography->authlib<2,>=1.2->dwave-cloud-client==0.13.6->dwave-ocean-sdk) (1.17.1)\n",
            "Requirement already satisfied: pycparser in /usr/local/lib/python3.11/dist-packages (from cffi>=1.12->cryptography->authlib<2,>=1.2->dwave-cloud-client==0.13.6->dwave-ocean-sdk) (2.22)\n"
          ]
        }
      ]
    },
    {
      "cell_type": "code",
      "source": [
        "# @title\n",
        "!pip install dwave-neal"
      ],
      "metadata": {
        "id": "Xr-b2bvu0kCf",
        "colab": {
          "base_uri": "https://localhost:8080/"
        },
        "outputId": "a89bad71-166b-4d38-a701-e06b256b935f"
      },
      "execution_count": null,
      "outputs": [
        {
          "output_type": "stream",
          "name": "stdout",
          "text": [
            "Requirement already satisfied: dwave-neal in /usr/local/lib/python3.11/dist-packages (0.6.0)\n",
            "Requirement already satisfied: dwave-samplers<2.0.0,>=1.0.0 in /usr/local/lib/python3.11/dist-packages (from dwave-neal) (1.6.0)\n",
            "Requirement already satisfied: numpy<3.0.0,>=1.19.0 in /usr/local/lib/python3.11/dist-packages (from dwave-samplers<2.0.0,>=1.0.0->dwave-neal) (2.0.2)\n",
            "Requirement already satisfied: dimod<0.13.0,>=0.12.13 in /usr/local/lib/python3.11/dist-packages (from dwave-samplers<2.0.0,>=1.0.0->dwave-neal) (0.12.20)\n",
            "Requirement already satisfied: networkx>=3.0 in /usr/local/lib/python3.11/dist-packages (from dwave-samplers<2.0.0,>=1.0.0->dwave-neal) (3.5)\n"
          ]
        }
      ]
    },
    {
      "cell_type": "code",
      "metadata": {
        "id": "QFqzS-0XGDIe"
      },
      "source": [
        "# @title\n",
        "# Import the Dwave packages dimod and neal\n",
        "import dimod\n",
        "import neal\n",
        "# Import Matplotlib to generate plots\n",
        "import matplotlib.pyplot as plt\n",
        "# Import numpy and scipy for certain numerical calculations below\n",
        "import numpy as np\n",
        "from scipy.special import gamma\n",
        "import math\n",
        "from collections import Counter\n",
        "import pandas as pd\n",
        "from itertools import chain\n",
        "import time\n",
        "import networkx as nx"
      ],
      "execution_count": null,
      "outputs": []
    },
    {
      "cell_type": "markdown",
      "source": [
        "## Setting up the Problem class"
      ],
      "metadata": {
        "id": "iW0peZJvobmx"
      }
    },
    {
      "cell_type": "code",
      "source": [
        "np.set_printoptions(threshold=np.inf)\n",
        "class Problem:\n",
        "    def __init__(self, M, N, lam, d, in_angles, out_angles, constraints=None):\n",
        "        self.M = M\n",
        "        self.N = N\n",
        "        self.lam = lam\n",
        "        self.d = d\n",
        "        self.theta_in = in_angles[0]\n",
        "        self.phi_in = in_angles[1]\n",
        "        self.theta_out = out_angles[0]\n",
        "        self.phi_out = out_angles[1]\n",
        "        self.k = 2 * np.pi / lam\n",
        "        self.Q = None  # will be computed when needed\n",
        "        self.constraints = constraints\n",
        "\n",
        "    def phase(self, m, n, theta_out, phi_out):\n",
        "        part1 = -m * np.sin(theta_out) * np.cos(phi_out)\n",
        "        part2 = -n * np.sin(theta_out) * np.sin(phi_out)\n",
        "        part3 = m * np.sin(self.theta_in) * np.cos(self.phi_in)\n",
        "        part4 = n * np.sin(self.theta_in) * np.sin(self.phi_in)\n",
        "        return self.k * self.d * (part1 + part2 + part3 + part4)\n",
        "\n",
        "    def compute_Q(self, theta_out = None, theta_in = None):\n",
        "\n",
        "      if theta_out is None:\n",
        "        theta_out = self.theta_out\n",
        "      if theta_in is not None:\n",
        "        theta_in = self.theta_in\n",
        "\n",
        "      Q = np.zeros((self.M * self.N, self.M * self.N))\n",
        "      for row in range(self.M * self.N):\n",
        "          m1, n1 = divmod(row, self.M)\n",
        "          for col in range(row):\n",
        "              m2, n2 = divmod(col, self.M)\n",
        "              phase_diff = self.phase(m1, n1, theta_out, phi_out) - self.phase(m2, n2, theta_out, phi_out)\n",
        "              Q[row, col] = np.cos(phase_diff)\n",
        "          # Q[row, row] = 0\n",
        "      self.Q = Q\n",
        "\n",
        "      return Q\n",
        "\n",
        "    def array_factor(self,  w_arr, Q = None):\n",
        "      if Q is None:\n",
        "        if self.Q is None:\n",
        "            self.compute_Q()\n",
        "        Q = self.Q\n",
        "      arr_fac = (1 / (self.M * self.N) ** 2) * (1*M*N + w_arr.T @ Q @ w_arr)\n",
        "      return arr_fac[0,0]\n",
        "\n",
        "\n",
        "    def check_constraints(self, w_arr):\n",
        "        if self.constraints is None:\n",
        "            return \"No constraints\"\n",
        "\n",
        "        checks = []\n",
        "        for constraint in self.constraints:\n",
        "          theta_o = constraint[0]\n",
        "          phi_o = constraint[1]\n",
        "          threshold = constraint[2]\n",
        "\n",
        "          Q_i = self.compute_Q(theta_o, phi_o)\n",
        "          arr_fac_i = self.array_factor(w_arr, Q = Q_i)\n",
        "\n",
        "          if arr_fac_i <= threshold:\n",
        "            checks.append(True)\n",
        "          else:\n",
        "            checks.append(False)\n",
        "\n",
        "        return checks\n",
        "\n",
        "\n",
        "    def sort_with_partner(self, arr1, arr2):\n",
        "      if len(arr1) != len(arr2):\n",
        "          raise ValueError(\"Both arrays must be of the same length.\")\n",
        "\n",
        "      n = len(arr1)\n",
        "      for i in range(n):\n",
        "          min_index = i\n",
        "          for j in range(i + 1, n):\n",
        "              if arr1[j] < arr1[min_index]:\n",
        "                  min_index = j\n",
        "          # Swap in both arrays\n",
        "          arr1[i], arr1[min_index] = arr1[min_index], arr1[i]\n",
        "          arr2[i], arr2[min_index] = arr2[min_index], arr2[i]\n",
        "\n",
        "      return arr1, arr2\n",
        "\n",
        "    def ssn_soln(self):\n",
        "      phase_list = np.zeros((self.M * self.N, 1))\n",
        "      w_arr = np.zeros((self.M * self.N, 1))\n",
        "\n",
        "      for i in range(self.M * self.N):\n",
        "        m,n = divmod(i, self.M)\n",
        "        phase_list[i] = (self.phase(m, n, self.theta_out, self.phi_out) % (2*np.pi))\n",
        "\n",
        "      indices = list(range(self.M * self.N))\n",
        "      phase_list_sorted, indices_sorted = self.sort_with_partner(phase_list, indices)\n",
        "\n",
        "      w_arr_max = 0\n",
        "      af_max = 0\n",
        "\n",
        "      for i in range(self.M * self.N):\n",
        "        delta_i = phase_list[i]\n",
        "        indices_unsort = list(indices_sorted)\n",
        "        if delta_i < np.pi:\n",
        "          delta_i_lim = delta_i + np.pi\n",
        "          for j in range(self.M * self.N):\n",
        "            if delta_i <= phase_list[j] < delta_i_lim:\n",
        "              w_arr[j] = +1\n",
        "            else:\n",
        "              w_arr[j] = -1\n",
        "\n",
        "        else:\n",
        "          delta_i_lim = delta_i - np.pi\n",
        "          for j in range(self.M * self.N):\n",
        "            if delta_i_lim < phase_list[j] < delta_i:\n",
        "              w_arr[j] = -1\n",
        "            else:\n",
        "              w_arr[j] = +1\n",
        "\n",
        "        indices_sort, w_arr_sort = self.sort_with_partner(indices_unsort, w_arr)\n",
        "        af_cur = self.array_factor(w_arr_sort)\n",
        "        if af_cur > af_max:\n",
        "          af_max = af_cur\n",
        "          w_arr_max = np.array(w_arr_sort)\n",
        "      return af_max,w_arr_max\n",
        "\n",
        "\n",
        "\n",
        "def cost(x,Q):\n",
        "    return x.T @ Q @ x\n",
        "\n",
        "\n",
        "\n"
      ],
      "metadata": {
        "id": "zhf5By5509zB",
        "collapsed": true
      },
      "execution_count": null,
      "outputs": []
    },
    {
      "cell_type": "markdown",
      "source": [
        "Initializing the QUBO problem with parameters"
      ],
      "metadata": {
        "id": "OOO6ZznV3Ueu"
      }
    },
    {
      "cell_type": "code",
      "source": [
        "M = 4\n",
        "N = 5\n",
        "lam = 1e-3\n",
        "d = lam / 1\n",
        "theta_in = np.pi / 4\n",
        "phi_in = np.pi / 3\n",
        "theta_out = np.pi / 3\n",
        "phi_out = np.pi / 4\n",
        "\n",
        "## constrain parameters\n",
        "theta_in2 = np.pi / 3\n",
        "phi_in2 = np.pi / 5\n",
        "theta_out2 = np.pi / 9\n",
        "phi_out2 = np.pi / 5\n",
        "\n",
        "K = 5\n",
        "\n",
        "prob = Problem(M, N, lam, d, in_angles=(theta_in, phi_in), out_angles=(theta_out, phi_out), constraints=None)\n",
        "\n",
        "prob2 = Problem(M,N,lam,d,in_angles=(theta_in2,phi_in2),out_angles=(theta_out2,phi_out2),constraints=None)\n",
        "\n",
        "w_arr = np.ones((M * N, 1), dtype=float)\n",
        "\n",
        "Q = prob.compute_Q()\n",
        "Q2 = -5*prob2.compute_Q()\n",
        "\n",
        "Q_input1 = (Q + Q.T + Q2 + Q2.T)\n",
        "\n",
        "# # TRANSFORMING TO (0,1)\n",
        "\n",
        "cQ = np.sum(Q_input1)\n",
        "\n",
        "prod = np.ones((1,M*N)) @ Q_input1\n",
        "q = np.zeros_like(Q_input1)\n",
        "\n",
        "for i in range(M*N):\n",
        "    q[i][i] = prod[0][i]\n",
        "\n",
        "Q_input = 4*Q_input1 - 4*q\n",
        "\n",
        "print(Q_input)\n",
        "\n",
        "\n",
        "af_max, w_array_max = prob.ssn_soln()\n",
        "print(af_max)\n",
        "print(w_array_max)\n",
        "\n",
        "print(cost(w_array_max, Q_input1))"
      ],
      "metadata": {
        "id": "gjOGSIzZ04KN",
        "colab": {
          "base_uri": "https://localhost:8080/"
        },
        "outputId": "17d13a34-f3c6-491c-ea20-fd7f7939f076"
      },
      "execution_count": null,
      "outputs": [
        {
          "output_type": "stream",
          "name": "stdout",
          "text": [
            "[[-31.53856591   6.15623616  23.53506456  -2.36845743  19.11157954\n",
            "    2.78587257 -20.20311403   1.07956137 -21.35238698 -11.94594952\n",
            "   15.12008947  -0.12242521  14.92377541  13.06391063 -16.27418155\n",
            "   -8.08833122  -6.29360696 -12.10434683  17.54927905  16.96599687]\n",
            " [  6.15623616 -37.86448338   6.15623616  23.53506456  -7.39761504\n",
            "   19.11157954   2.78587257 -20.20311403   7.74190207 -21.35238698\n",
            "  -11.94594952  15.12008947 -14.81534753  14.92377541  13.06391063\n",
            "  -16.27418155  22.10708618  -6.29360696 -12.10434683  17.54927905]\n",
            " [ 23.53506456   6.15623616 -34.44975161   6.15623616 -18.0073136\n",
            "   -7.39761504  19.11157954   2.78587257  10.87492371   7.74190207\n",
            "  -21.35238698 -11.94594952 -10.26275508 -14.81534753  14.92377541\n",
            "   13.06391063  10.17248614  22.10708618  -6.29360696 -12.10434683]\n",
            " [ -2.36845743  23.53506456   6.15623616 -28.86013096  10.78958255\n",
            "  -18.0073136   -7.39761504  19.11157954 -18.89491879  10.87492371\n",
            "    7.74190207 -21.35238698  18.49472142 -10.26275508 -14.81534753\n",
            "   14.92377541 -15.65482538  10.17248614  22.10708618  -6.29360696]\n",
            " [ 19.11157954  -7.39761504 -18.0073136   10.78958255 -19.91747725\n",
            "    6.15623616  23.53506456  -2.36845743  19.11157954   2.78587257\n",
            "  -20.20311403   1.07956137 -21.35238698 -11.94594952  15.12008947\n",
            "   -0.12242521  14.92377541  13.06391063 -16.27418155  -8.08833122]\n",
            " [  2.78587257  19.11157954  -7.39761504 -18.0073136    6.15623616\n",
            "  -13.09859542   6.15623616  23.53506456  -7.39761504  19.11157954\n",
            "    2.78587257 -20.20311403   7.74190207 -21.35238698 -11.94594952\n",
            "   15.12008947 -14.81534753  14.92377541  13.06391063 -16.27418155]\n",
            " [-20.20311403   2.78587257  19.11157954  -7.39761504  23.53506456\n",
            "    6.15623616 -14.86485613   6.15623616 -18.0073136   -7.39761504\n",
            "   19.11157954   2.78587257  10.87492371   7.74190207 -21.35238698\n",
            "  -11.94594952 -10.26275508 -14.81534753  14.92377541  13.06391063]\n",
            " [  1.07956137 -20.20311403   2.78587257  19.11157954  -2.36845743\n",
            "   23.53506456   6.15623616 -21.30289043  10.78958255 -18.0073136\n",
            "   -7.39761504  19.11157954 -18.89491879  10.87492371   7.74190207\n",
            "  -21.35238698  18.49472142 -10.26275508 -14.81534753  14.92377541]\n",
            " [-21.35238698   7.74190207  10.87492371 -18.89491879  19.11157954\n",
            "   -7.39761504 -18.0073136   10.78958255   5.33817602   6.15623616\n",
            "   23.53506456  -2.36845743  19.11157954   2.78587257 -20.20311403\n",
            "    1.07956137 -21.35238698 -11.94594952  15.12008947  -0.12242521]\n",
            " [-11.94594952 -21.35238698   7.74190207  10.87492371   2.78587257\n",
            "   19.11157954  -7.39761504 -18.0073136    6.15623616  -1.51892774\n",
            "    6.15623616  23.53506456  -7.39761504  19.11157954   2.78587257\n",
            "  -20.20311403   7.74190207 -21.35238698 -11.94594952  15.12008947]\n",
            " [ 15.12008947 -11.94594952 -21.35238698   7.74190207 -20.20311403\n",
            "    2.78587257  19.11157954  -7.39761504  23.53506456   6.15623616\n",
            "   -1.51892774   6.15623616 -18.0073136   -7.39761504  19.11157954\n",
            "    2.78587257  10.87492371   7.74190207 -21.35238698 -11.94594952]\n",
            " [ -0.12242521  15.12008947 -11.94594952 -21.35238698   1.07956137\n",
            "  -20.20311403   2.78587257  19.11157954  -2.36845743  23.53506456\n",
            "    6.15623616   5.33817602  10.78958255 -18.0073136   -7.39761504\n",
            "   19.11157954 -18.89491879  10.87492371   7.74190207 -21.35238698]\n",
            " [ 14.92377541 -14.81534753 -10.26275508  18.49472142 -21.35238698\n",
            "    7.74190207  10.87492371 -18.89491879  19.11157954  -7.39761504\n",
            "  -18.0073136   10.78958255 -21.30289043   6.15623616  23.53506456\n",
            "   -2.36845743  19.11157954   2.78587257 -20.20311403   1.07956137]\n",
            " [ 13.06391063  14.92377541 -14.81534753 -10.26275508 -11.94594952\n",
            "  -21.35238698   7.74190207  10.87492371   2.78587257  19.11157954\n",
            "   -7.39761504 -18.0073136    6.15623616 -14.86485613   6.15623616\n",
            "   23.53506456  -7.39761504  19.11157954   2.78587257 -20.20311403]\n",
            " [-16.27418155  13.06391063  14.92377541 -14.81534753  15.12008947\n",
            "  -11.94594952 -21.35238698   7.74190207 -20.20311403   2.78587257\n",
            "   19.11157954  -7.39761504  23.53506456   6.15623616 -13.09859542\n",
            "    6.15623616 -18.0073136   -7.39761504  19.11157954   2.78587257]\n",
            " [ -8.08833122 -16.27418155  13.06391063  14.92377541  -0.12242521\n",
            "   15.12008947 -11.94594952 -21.35238698   1.07956137 -20.20311403\n",
            "    2.78587257  19.11157954  -2.36845743  23.53506456   6.15623616\n",
            "  -19.91747725  10.78958255 -18.0073136   -7.39761504  19.11157954]\n",
            " [ -6.29360696  22.10708618  10.17248614 -15.65482538  14.92377541\n",
            "  -14.81534753 -10.26275508  18.49472142 -21.35238698   7.74190207\n",
            "   10.87492371 -18.89491879  19.11157954  -7.39761504 -18.0073136\n",
            "   10.78958255 -28.86013096   6.15623616  23.53506456  -2.36845743]\n",
            " [-12.10434683  -6.29360696  22.10708618  10.17248614  13.06391063\n",
            "   14.92377541 -14.81534753 -10.26275508 -11.94594952 -21.35238698\n",
            "    7.74190207  10.87492371   2.78587257  19.11157954  -7.39761504\n",
            "  -18.0073136    6.15623616 -34.44975161   6.15623616  23.53506456]\n",
            " [ 17.54927905 -12.10434683  -6.29360696  22.10708618 -16.27418155\n",
            "   13.06391063  14.92377541 -14.81534753  15.12008947 -11.94594952\n",
            "  -21.35238698   7.74190207 -20.20311403   2.78587257  19.11157954\n",
            "   -7.39761504  23.53506456   6.15623616 -37.86448338   6.15623616]\n",
            " [ 16.96599687  17.54927905 -12.10434683  -6.29360696  -8.08833122\n",
            "  -16.27418155  13.06391063  14.92377541  -0.12242521  15.12008947\n",
            "  -11.94594952 -21.35238698   1.07956137 -20.20311403   2.78587257\n",
            "   19.11157954  -2.36845743  23.53506456   6.15623616 -31.53856591]]\n",
            "0.19053844366485678\n",
            "[[-1.]\n",
            " [-1.]\n",
            " [-1.]\n",
            " [-1.]\n",
            " [ 1.]\n",
            " [ 1.]\n",
            " [ 1.]\n",
            " [ 1.]\n",
            " [ 1.]\n",
            " [ 1.]\n",
            " [ 1.]\n",
            " [ 1.]\n",
            " [ 1.]\n",
            " [ 1.]\n",
            " [ 1.]\n",
            " [ 1.]\n",
            " [-1.]\n",
            " [-1.]\n",
            " [-1.]\n",
            " [-1.]]\n",
            "[[209.47139256]]\n"
          ]
        }
      ]
    },
    {
      "cell_type": "markdown",
      "source": [
        "---\n",
        "###Brute Force algorithm to solve the problem"
      ],
      "metadata": {
        "id": "X7p2HC9D1F3B"
      }
    },
    {
      "cell_type": "code",
      "source": [
        "# BRUTE FORCE\n",
        "\n",
        "from itertools import product\n",
        "  # total length = M * N\n",
        "\n",
        "cost_optimal = 0\n",
        "cur_cost =0\n",
        "for x in product([-1, 1], repeat=M * N):\n",
        "    # print(np.array(x))\n",
        "    cur_cost = cost(np.array(x),Q+Q.T)\n",
        "    if(cur_cost>cost_optimal):\n",
        "        cost_optimal = cur_cost\n",
        "        w_array_optimal = x\n",
        "\n",
        "print(cost_optimal)\n",
        "print(w_array_optimal)\n",
        "print(w_array_max.T)\n",
        "print(cost(w_array_max,Q_input1))\n",
        "\n",
        "\n"
      ],
      "metadata": {
        "id": "W-yapmhipaPD",
        "colab": {
          "base_uri": "https://localhost:8080/"
        },
        "outputId": "24ae0000-25b1-4cfa-c01d-5f52f31faec3"
      },
      "execution_count": null,
      "outputs": [
        {
          "output_type": "stream",
          "name": "stdout",
          "text": [
            "186.628251605718\n",
            "(-1, -1, -1, -1, -1, -1, -1, -1, 1, 1, 1, 1, 1, 1, 1, 1, -1, -1, -1, -1)\n",
            "[[-1. -1. -1. -1.  1.  1.  1.  1.  1.  1.  1.  1.  1.  1.  1.  1. -1. -1.\n",
            "  -1. -1.]]\n",
            "[[209.47139256]]\n"
          ]
        }
      ]
    },
    {
      "cell_type": "markdown",
      "source": [
        "### Plotting functions for Annealer"
      ],
      "metadata": {
        "id": "jbIm-I9V1WCb"
      }
    },
    {
      "cell_type": "code",
      "metadata": {
        "id": "8RDeB0DcGDJZ"
      },
      "source": [
        "#This is the code from the lecture notebooks to create the graphs of energy levels obtained, we use this to get a better understanding of the probabilities and energies\n",
        "def plot_enumerate(results, title=None):\n",
        "\n",
        "    plt.figure()\n",
        "\n",
        "    energies = [datum.energy for datum in results.data(\n",
        "        ['energy'], sorted_by=None)]\n",
        "\n",
        "    if results.vartype == 'Vartype.BINARY':\n",
        "        samples = [''.join(c for c in str(datum.sample.values()).strip(\n",
        "            ', ') if c.isdigit()) for datum in results.data(['sample'], sorted_by=None)]\n",
        "        plt.xlabel('bitstring for solution')\n",
        "    else:\n",
        "        samples = np.arange(len(energies))\n",
        "        plt.xlabel('solution')\n",
        "\n",
        "    plt.bar(samples,energies)\n",
        "    plt.xticks(rotation=90)\n",
        "    plt.ylabel('Energy')\n",
        "    plt.title(str(title))\n",
        "    # print(\"minimum energy:\", min(energies))\n",
        "\n",
        "\n",
        "def plot_energies(results, title=None):\n",
        "    energies = results.data_vectors['energy']\n",
        "    occurrences = results.data_vectors['num_occurrences']\n",
        "    counts = Counter(energies)\n",
        "    total = sum(occurrences)\n",
        "    counts = {}\n",
        "    for index, energy in enumerate(energies):\n",
        "        if energy in counts.keys():\n",
        "            counts[energy] += occurrences[index]\n",
        "        else:\n",
        "            counts[energy] = occurrences[index]\n",
        "    for key in counts:\n",
        "        counts[key] /= total\n",
        "    df = pd.DataFrame.from_dict(counts, orient='index').sort_index()\n",
        "    df.plot(kind='bar', legend=None)\n",
        "\n",
        "    plt.xlabel('Energy')\n",
        "    plt.ylabel('Probabilities')\n",
        "    plt.title(str(title))\n",
        "    plt.show()\n",
        "    # print(\"minimum energy:\", min(energies))"
      ],
      "execution_count": null,
      "outputs": []
    },
    {
      "cell_type": "markdown",
      "source": [
        "### Defining quadratic model to input to D-Wave Annealers  "
      ],
      "metadata": {
        "id": "38qLA31H1e8H"
      }
    },
    {
      "cell_type": "code",
      "metadata": {
        "id": "9kdWu1_YGDJP"
      },
      "source": [
        "#dimod package converts qubo model directly to ising models readable by annealers\n",
        "model = dimod.BinaryQuadraticModel.from_qubo(-Q_input)\n"
      ],
      "execution_count": null,
      "outputs": []
    },
    {
      "cell_type": "markdown",
      "metadata": {
        "id": "q5rW23QrGDJO"
      },
      "source": [
        "We can check the functioning of the model in Simulated Annealing before using the DWave QPU"
      ]
    },
    {
      "cell_type": "code",
      "metadata": {
        "id": "OYmmF5RlGDJi"
      },
      "source": [
        "simAnnSampler = neal.SimulatedAnnealingSampler()\n",
        "simAnnSamples = simAnnSampler.sample(model, num_reads=100,num_sweeps=100000,num_sweeps_per_beta = 1)\n"
      ],
      "execution_count": null,
      "outputs": []
    },
    {
      "cell_type": "code",
      "metadata": {
        "tags": [],
        "id": "ByocGm5mGDJq",
        "colab": {
          "base_uri": "https://localhost:8080/",
          "height": 1000
        },
        "outputId": "97fe7be5-0f69-4bce-fde7-a98f1a4469d5"
      },
      "source": [
        "plot_enumerate(simAnnSamples, title='Simulated annealing in default parameters')\n",
        "plot_energies(simAnnSamples, title='Simulated annealing in default parameters')\n",
        "print(simAnnSamples.info)"
      ],
      "execution_count": null,
      "outputs": [
        {
          "output_type": "display_data",
          "data": {
            "text/plain": [
              "<Figure size 640x480 with 1 Axes>"
            ],
            "image/png": "[encoded data removed]"
          },
          "metadata": {}
        },
        {
          "output_type": "display_data",
          "data": {
            "text/plain": [
              "<Figure size 640x480 with 1 Axes>"
            ],
            "image/png": "[encoded data removed]"
          },
          "metadata": {}
        },
        {
          "output_type": "stream",
          "name": "stdout",
          "text": [
            "{'beta_range': [np.float64(0.030701976246052008), np.float64(2.7270285848772988e+16)], 'beta_schedule_type': 'geometric', 'timing': {'preprocessing_ns': 4667715, 'sampling_ns': 497588174, 'postprocessing_ns': 372521}}\n"
          ]
        }
      ]
    },
    {
      "cell_type": "code",
      "source": [
        "sample = simAnnSamples.first.sample\n",
        "sim_arr = np.array([sample[i] for i in sorted(sample)])\n",
        "sim_arr = sim_arr*2 - np.ones_like(sim_arr)\n",
        "print(sim_arr)\n",
        "# print(w_array_optimal)\n",
        "print(cost(sim_arr,Q_input1),cost(np.array(w_array_optimal),Q_input1))"
      ],
      "metadata": {
        "id": "1MppHIJrmW4i",
        "colab": {
          "base_uri": "https://localhost:8080/"
        },
        "outputId": "d6e5d016-30c0-4024-e834-d7fd92640c08"
      },
      "execution_count": null,
      "outputs": [
        {
          "output_type": "stream",
          "name": "stdout",
          "text": [
            "[ 1  1  1 -1 -1 -1 -1 -1 -1  1  1  1]\n",
            "63.754522777081405 63.754522777081405\n"
          ]
        }
      ]
    },
    {
      "cell_type": "markdown",
      "metadata": {
        "id": "O-dDd26yGDJw"
      },
      "source": [
        "Simulated annealing is slow for large problems.\n",
        "---\n",
        "## Now let's solve this using Quantum Annealing!\n",
        "\n",
        "\n",
        "\n",
        "\n",
        "\n"
      ]
    },
    {
      "cell_type": "code",
      "metadata": {
        "id": "rjoehDiUHCAS",
        "tags": [],
        "colab": {
          "base_uri": "https://localhost:8080/",
          "height": 176
        },
        "outputId": "7157938b-01e7-4952-f76d-9af7b25e5395"
      },
      "source": [
        "# Let's setup the D-Wave connection\n",
        "if IN_COLAB:\n",
        "    !dwave setup"
      ],
      "execution_count": null,
      "outputs": [
        {
          "output_type": "error",
          "ename": "NameError",
          "evalue": "name 'IN_COLAB' is not defined",
          "traceback": [
            "\u001b[0;31m---------------------------------------------------------------------------\u001b[0m",
            "\u001b[0;31mNameError\u001b[0m                                 Traceback (most recent call last)",
            "\u001b[0;32m/tmp/ipython-input-1-2961899583.py\u001b[0m in \u001b[0;36m<cell line: 0>\u001b[0;34m()\u001b[0m\n\u001b[1;32m      1\u001b[0m \u001b[0;31m# Let's setup the D-Wave connection\u001b[0m\u001b[0;34m\u001b[0m\u001b[0;34m\u001b[0m\u001b[0m\n\u001b[0;32m----> 2\u001b[0;31m \u001b[0;32mif\u001b[0m \u001b[0mIN_COLAB\u001b[0m\u001b[0;34m:\u001b[0m\u001b[0;34m\u001b[0m\u001b[0;34m\u001b[0m\u001b[0m\n\u001b[0m\u001b[1;32m      3\u001b[0m     \u001b[0mget_ipython\u001b[0m\u001b[0;34m(\u001b[0m\u001b[0;34m)\u001b[0m\u001b[0;34m.\u001b[0m\u001b[0msystem\u001b[0m\u001b[0;34m(\u001b[0m\u001b[0;34m'dwave setup'\u001b[0m\u001b[0;34m)\u001b[0m\u001b[0;34m\u001b[0m\u001b[0;34m\u001b[0m\u001b[0m\n",
            "\u001b[0;31mNameError\u001b[0m: name 'IN_COLAB' is not defined"
          ]
        }
      ]
    },
    {
      "cell_type": "code",
      "metadata": {
        "id": "RLxkZFB9HEzH",
        "tags": []
      },
      "source": [
        "!dwave ping"
      ],
      "execution_count": null,
      "outputs": []
    },
    {
      "cell_type": "code",
      "metadata": {
        "id": "oLeaj0CwH8Yf"
      },
      "source": [
        "import dwave_networkx as dnx\n",
        "from dwave.system import (DWaveSampler, EmbeddingComposite,\n",
        "                          FixedEmbeddingComposite)\n",
        "from pprint import pprint"
      ],
      "execution_count": null,
      "outputs": []
    },
    {
      "cell_type": "code",
      "metadata": {
        "id": "RL6ZoZ54HaF1",
        "tags": []
      },
      "source": [
        "# Graph corresponding to D-Wave 2000Q\n",
        "qpu = DWaveSampler()\n",
        "qpu_edges = qpu.edgelist\n",
        "qpu_nodes = qpu.nodelist\n",
        "pprint(dir(qpu))\n",
        "if qpu.solver.id == \"DW_2000Q_6\":\n",
        "    print(qpu.solver.id)\n",
        "    X = dnx.chimera_graph(16, node_list=qpu_nodes, edge_list=qpu_edges)\n",
        "    dnx.draw_chimera(X, node_size=1)\n",
        "    print('Number of qubits=', len(qpu_nodes))\n",
        "    print('Number of couplers=', len(qpu_edges))\n",
        "elif qpu.solver.id == \"Advantage_system1.1\":\n",
        "    print(qpu.solver.id)\n",
        "    X = dnx.pegasus_graph(16, node_list=qpu_nodes, edge_list=qpu_edges)\n",
        "    dnx.draw_pegasus(X, node_size=1)\n",
        "    print('Number of qubits=', len(qpu_nodes))\n",
        "    print('Number of couplers=', len(qpu_edges))\n",
        "print(len(qpu_nodes),len(qpu_edges))"
      ],
      "execution_count": null,
      "outputs": []
    },
    {
      "cell_type": "code",
      "source": [
        "print(qpu.properties[\"annealing_time_range\"])\n",
        "qpu.properties[\"default_annealing_time\"]"
      ],
      "metadata": {
        "id": "mZUEonFQkp66"
      },
      "execution_count": null,
      "outputs": []
    },
    {
      "cell_type": "markdown",
      "source": [
        "### Annealing with the D-Wave QPU and comparing plots:"
      ],
      "metadata": {
        "id": "GDcxc6mM2Ds7"
      }
    },
    {
      "cell_type": "code",
      "metadata": {
        "id": "7XvaXFXZH5Wl"
      },
      "source": [
        "DWavesampler = EmbeddingComposite(DWaveSampler())\n",
        "\n",
        "initial = np.ones(M*N)\n",
        "# Define a reverse annealing schedule\n",
        "# (time in μs, anneal fraction s)\n",
        "schedule = [\n",
        "    (0.0, 1.0),         # Start at classical\n",
        "    (5.0, 0.45),        # Reverse to s=0.45\n",
        "    (35.0, 0.45),       # Pause for 30 μs\n",
        "    (40.0, 1.0)         # Anneal forward\n",
        "]\n",
        "\n",
        "DWaveSamples = DWavesampler.sample(bqm=model, initial_state = {i: initial[i] for i in range(len(initial))},\n",
        "                                   anneal_schedule = schedule, num_reads=100, return_embedding=True, reinitialize_state=True)"
      ],
      "execution_count": null,
      "outputs": []
    },
    {
      "cell_type": "code",
      "metadata": {
        "id": "q-6JWcARJPdv",
        "tags": [],
        "colab": {
          "base_uri": "https://localhost:8080/"
        },
        "outputId": "e3f09bd0-d9fc-4eed-d87f-88cd1a3b7691"
      },
      "source": [
        "print(DWaveSamples.info)"
      ],
      "execution_count": null,
      "outputs": [
        {
          "output_type": "stream",
          "name": "stdout",
          "text": [
            "{'timing': {'qpu_sampling_time': 15126.0, 'qpu_anneal_time_per_sample': 30.0, 'qpu_readout_time_per_sample': 100.68, 'qpu_access_time': 30885.96, 'qpu_access_overhead_time': 1218.04, 'qpu_programming_time': 15759.96, 'qpu_delay_time_per_sample': 20.58, 'post_processing_overhead_time': 90.0, 'total_post_processing_time': 90.0}, 'problem_id': '41dc1add-f286-4b6a-a6aa-a699224ad453', 'embedding_context': {'embedding': {1: (3799, 3801, 3800), 0: (4100, 1159, 1160), 2: (964, 1100, 3846, 3845), 3: (4041, 1266, 1264, 1265), 4: (1249, 3891, 1250), 5: (1339, 3830, 3831), 6: (1294, 1295, 3965, 3966), 7: (3951, 1069, 3950, 1070), 8: (1116, 1114, 1115), 9: (1324, 1280, 3815, 3816), 10: (4071, 1189, 1190), 11: (1085, 979, 3861, 3860), 12: (1054, 4011, 4010, 1055), 13: (3771, 3769, 1099, 3770), 14: (3906, 3905, 994, 3904), 15: (1220, 1219, 3935), 16: (1024, 1025, 4026, 4025), 17: (3876, 1234, 1235), 18: (4085, 1174, 3996, 1175), 19: (1039, 3786, 3785), 20: (1084, 3754, 3756, 3755), 21: (3981, 1009, 1010, 3980), 22: (3995, 1144, 1145), 23: (1129, 1131, 1130), 24: (1204, 3920, 1205)}, 'chain_break_method': 'majority_vote', 'embedding_parameters': {}, 'chain_strength': 50.13591747430687}}\n"
          ]
        }
      ]
    },
    {
      "cell_type": "code",
      "metadata": {
        "id": "8o9Moi39K6BW"
      },
      "source": [
        "embedding = DWaveSamples.info['embedding_context']['embedding']\n",
        "if qpu.solver.id == \"DW_2000Q_6\":\n",
        "  dnx.draw_chimera_embedding(X, embedding, node_size=2)\n",
        "elif qpu.solver.id == \"Advantage_system1.1\":\n",
        "  dnx.draw_pegasus_embedding(X, embedding, node_size=2)"
      ],
      "execution_count": null,
      "outputs": []
    },
    {
      "cell_type": "code",
      "metadata": {
        "id": "aGI6KVM-Ik79",
        "tags": [],
        "colab": {
          "base_uri": "https://localhost:8080/",
          "height": 1000
        },
        "outputId": "6426c08b-a836-4df1-b62c-63d9cbf126c1"
      },
      "source": [
        "plot_enumerate(DWaveSamples, title='Quantum annealing in default parameters')\n",
        "plot_energies(DWaveSamples, title='Quantum annealing in default parameters')"
      ],
      "execution_count": null,
      "outputs": [
        {
          "output_type": "stream",
          "name": "stdout",
          "text": [
            "minimum energy: -291.5993683103575\n"
          ]
        },
        {
          "output_type": "display_data",
          "data": {
            "text/plain": [
              "<Figure size 640x480 with 1 Axes>"
            ],
            "image/png": "[encoded data removed]"
          },
          "metadata": {}
        },
        {
          "output_type": "display_data",
          "data": {
            "text/plain": [
              "<Figure size 640x480 with 1 Axes>"
            ],
            "image/png": "[encoded data removed]"
          },
          "metadata": {}
        },
        {
          "output_type": "stream",
          "name": "stdout",
          "text": [
            "minimum energy: -291.5993683103575\n"
          ]
        }
      ]
    },
    {
      "cell_type": "code",
      "execution_count": null,
      "metadata": {
        "id": "5uYaRTB8ZHs3",
        "colab": {
          "base_uri": "https://localhost:8080/"
        },
        "outputId": "2b19f676-fcc6-427f-ee7c-bbaaf330059a"
      },
      "outputs": [
        {
          "output_type": "stream",
          "name": "stdout",
          "text": [
            "[-1  1  1 -1 -1 -1  1  1 -1 -1 -1 -1 -1 -1  1  1 -1 -1  1  1  1  1  1 -1\n",
            "  1  1  1 -1 -1 -1  1 -1  1  1  1  1  1 -1  1 -1  1 -1  1 -1 -1 -1 -1 -1\n",
            " -1 -1 -1 -1 -1 -1 -1 -1 -1 -1 -1 -1 -1  1  1  1  1 -1  1 -1  1 -1  1  1\n",
            "  1 -1  1 -1 -1  1 -1 -1  1 -1 -1 -1 -1 -1 -1  1 -1  1  1 -1 -1 -1  1 -1\n",
            "  1  1  1  1]\n",
            "[-1 -1 -1 -1 -1 -1 -1 -1 -1 -1  1  1  1  1  1  1  1  1  1  1  1  1  1  1\n",
            "  1  1  1  1  1  1 -1 -1 -1 -1 -1 -1 -1 -1 -1 -1 -1 -1 -1 -1 -1 -1 -1 -1\n",
            " -1 -1  1  1  1  1  1  1  1  1  1  1  1  1  1  1  1  1  1  1  1  1 -1 -1\n",
            " -1 -1 -1 -1 -1 -1 -1 -1 -1 -1 -1 -1 -1 -1 -1 -1 -1 -1  1  1  1  1  1  1\n",
            "  1  1  1  1]\n",
            "5546.46204629681 799.9973783666283\n"
          ]
        }
      ],
      "source": [
        "dsample = DWaveSamples.first.sample\n",
        "arr = np.array([dsample[i] for i in sorted(dsample)])\n",
        "arr = np.ones_like(arr) - arr*2\n",
        "print(arr)\n",
        "print(sim_arr)\n",
        "print(cost(sim_arr,Q_input1),cost(arr,Q_input1))\n",
        "# print(w_array_optimal)\n",
        "# print(cost(arr,Q_input1),cost(np.array(w_array_optimal),Q_input1))"
      ]
    }
  ]
}